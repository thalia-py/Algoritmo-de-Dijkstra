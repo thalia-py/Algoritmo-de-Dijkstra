{
  "nbformat": 4,
  "nbformat_minor": 0,
  "metadata": {
    "colab": {
      "provenance": [],
      "authorship_tag": "ABX9TyNUopUAyA4iXH2aUtvoc5OA",
      "include_colab_link": true
    },
    "kernelspec": {
      "name": "python3",
      "display_name": "Python 3"
    },
    "language_info": {
      "name": "python"
    }
  },
  "cells": [
    {
      "cell_type": "markdown",
      "metadata": {
        "id": "view-in-github",
        "colab_type": "text"
      },
      "source": [
        "<a href=\"https://colab.research.google.com/github/thalia-py/Algoritmo-de-Dijkstra/blob/main/dijkstra.ipynb\" target=\"_parent\"><img src=\"https://colab.research.google.com/assets/colab-badge.svg\" alt=\"Open In Colab\"/></a>"
      ]
    },
    {
      "cell_type": "markdown",
      "source": [
        "O algotimo de **Dijkstra** é um dos algoritmos que calcula o caminho de custo mínimo entre vértices de um grafo. Escolhido um vértice como raiz da busca, este algoritmo calcula o custo mínimo deste vértice para todos os demais vértices do grafo."
      ],
      "metadata": {
        "id": "47ci0yJVwODY"
      }
    },
    {
      "cell_type": "code",
      "execution_count": null,
      "metadata": {
        "id": "cSI5fo6Quklb"
      },
      "outputs": [],
      "source": [
        "import math\n",
        "from platform import node\n",
        "\n",
        "no = {'name': '0', 'parent':  None, 'visited': False}\n",
        "\n",
        "matriz = {}\n",
        "\n",
        "matrizMinima = {}\n",
        "\n",
        "listaNos = {}\n",
        "\n",
        "def criarNo(name) :\n",
        "\n",
        "    return {'name': name, 'visited': False}\n",
        "\n",
        "\n",
        "def gerarAresta(origin, to, weight) :\n",
        "\n",
        "    if not origin in listaNos: \n",
        "\n",
        "        listaNos[origin] = criarNo(origin)\n",
        "\n",
        "    if not to in listaNos:\n",
        "        listaNos[to] = criarNo(to)\n",
        "\n",
        "    if not origin in matriz:\n",
        "\n",
        "        matriz[origin] = {}\n",
        "\n",
        "    matriz[origin][to] = weight\n",
        "\n",
        "\n",
        "def gerarMatrizMinima(grafo, raiz, destino):\n",
        "\n",
        "    matrizMinima[raiz] = {}\n",
        "\n",
        "    for i, no in listaNos.items():\n",
        "\n",
        "        if no['name'] == raiz:\n",
        "            matrizMinima[raiz][i] = {'peso': 0, 'pai': None, 'name' : raiz}\n",
        "            continue\n",
        "\n",
        "        matrizMinima[raiz][i] = {'peso': math.inf, 'pai': None, 'name' : i}\n",
        "\n",
        "    for i, no in listaNos.items():\n",
        "\n",
        "        if not i in matriz:\n",
        "            continue\n",
        "\n",
        "        for j, noInternal in matriz[i].items():\n",
        "\n",
        "            if matrizMinima[raiz][j]['peso'] > matrizMinima[raiz][i]['peso'] + noInternal:\n",
        "\n",
        "                matrizMinima[raiz][j]['pai'] = i\n",
        "                matrizMinima[raiz][j]['peso'] = matrizMinima[raiz][i]['peso'] + noInternal\n",
        "\n",
        "    if matrizMinima[raiz][destino]['peso'] == math.inf:\n",
        "\n",
        "        print('Não existe caminho de {} para {}.'.format(raiz, destino))\n",
        "\n",
        "        return\n",
        "\n",
        "    caminho = destino\n",
        "    distancia = matrizMinima[raiz][destino]['peso']\n",
        "\n",
        "\n",
        "    noDestino = matrizMinima[raiz][destino]\n",
        "\n",
        "    while noDestino['pai'] != None:\n",
        "\n",
        "        caminho = \"{} -> {}\".format(noDestino['pai'], caminho)\n",
        "\n",
        "        noDestino = matrizMinima[raiz][noDestino['pai']]\n",
        "\n",
        "    print('Este é o caminho mínimo:',caminho)\n",
        "    print('Esta é a distância mínima:', distancia)\n",
        "\n",
        "#Em X digite o numero do grafo de saida;  em Y o grafo de chegada; em Z o peso da aresta.\n",
        "gerarAresta(X, Y, Z)\n",
        "gerarAresta(X, Y, Z)\n",
        "gerarAresta(X, Y, Z)\n",
        "gerarAresta(X, Y, Z)\n",
        "gerarAresta(X, Y, Z)\n",
        "gerarAresta(X, Y, Z)\n",
        "gerarAresta(X, Y, Z)\n",
        "gerarAresta(X, Y, Z)\n",
        "gerarAresta(X, Y, Z)\n",
        "\n",
        "#em X digite o número do grafo de saída, em Y o número do grafo de chegada\n",
        "gerarMatrizMinima(matriz, X, Y)\n"
      ]
    },
    {
      "cell_type": "markdown",
      "source": [
        "**Ficou com dúvidas? Acesse meu exemplo resolvido no GitHub**"
      ],
      "metadata": {
        "id": "92e6IBAOxVud"
      }
    }
  ]
}